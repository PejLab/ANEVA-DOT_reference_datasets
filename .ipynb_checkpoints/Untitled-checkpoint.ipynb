{
 "cells": [
  {
   "cell_type": "code",
   "execution_count": 1,
   "metadata": {},
   "outputs": [],
   "source": [
    "import pandas as pd\n"
   ]
  },
  {
   "cell_type": "code",
   "execution_count": 9,
   "metadata": {},
   "outputs": [],
   "source": [
    "filterfile = pd.read_csv(\"Reference_Vg_Estimates/gtex_imprinted_genes.txt\")\n",
    "v8file = pd.read_csv(\"Reference_Vg_Estimates/Vg_GTEx_v8.txt\", sep='\\t')\n",
    "v7file = pd.read_csv(\"Reference_Vg_Estimates/Vg_GTEx_v7.txt\", sep='\\t')\n",
    "GEUfile = pd.read_csv(\"Reference_Vg_Estimates/Vg_GEUVADIS.txt\", sep='\\t')"
   ]
  },
  {
   "cell_type": "code",
   "execution_count": 17,
   "metadata": {},
   "outputs": [],
   "source": [
    "#how many did we actually filter out?\n",
    "filtered_v8file_genes = v8file[v8file.IDs.isin(filterfile.gtex_imprinted_genes)]\n",
    "filtered_v7file_genes = v7file[v7file.IDs.isin(filterfile.gtex_imprinted_genes)]\n",
    "filtered_GEUfile_genes = GEUfile[GEUfile.IDs.isin(filterfile.gtex_imprinted_genes)]"
   ]
  },
  {
   "cell_type": "code",
   "execution_count": 19,
   "metadata": {},
   "outputs": [
    {
     "name": "stdout",
     "output_type": "stream",
     "text": [
      "Filtered out V8 genes: 48\n",
      "Filtered out V7 genes: 35\n",
      "Filtered out GEU genes: 3\n"
     ]
    }
   ],
   "source": [
    "print(\"Filtered out V8 genes: \" + str(filtered_v8file_genes.IDs.shape[0]) )\n",
    "print(\"Filtered out V7 genes: \" + str(filtered_v7file_genes.IDs.shape[0]) )\n",
    "print(\"Filtered out GEU genes: \" + str(filtered_GEUfile_genes.IDs.shape[0]) )"
   ]
  },
  {
   "cell_type": "code",
   "execution_count": 21,
   "metadata": {},
   "outputs": [],
   "source": [
    "#lets save the filtered results\n",
    "filtered_v8file = v8file[~v8file.IDs.isin(filterfile.gtex_imprinted_genes)]\n",
    "filtered_v7file = v7file[~v7file.IDs.isin(filterfile.gtex_imprinted_genes)]\n",
    "filtered_GEUfile = GEUfile[~GEUfile.IDs.isin(filterfile.gtex_imprinted_genes)]\n",
    "\n",
    "filtered_v8file.to_csv(\"Reference_Vg_Estimates/Vg_GTEx_v8_filtered.txt\",sep='\\t')\n",
    "filtered_v7file.to_csv(\"Reference_Vg_Estimates/Vg_GTEx_v7_filtered.txt\",sep='\\t')\n",
    "filtered_GEUfile.to_csv(\"Reference_Vg_Estimates/Vg_GEUVADIS_filtered.txt\",sep='\\t')"
   ]
  },
  {
   "cell_type": "code",
   "execution_count": null,
   "metadata": {},
   "outputs": [],
   "source": []
  },
  {
   "cell_type": "code",
   "execution_count": null,
   "metadata": {},
   "outputs": [],
   "source": [
    "v8file_otherfolder = pd.read_csv(\"ANEVA_DOT_Blacklists_and_frequencies/Vg_GTEx_v8.txt\", sep='\\t')\n",
    "v7file_otherfolder = pd.read_csv(\"ANEVA_DOT_Blacklists_and_frequencies/Vg_GTEx_v7.txt\", sep='\\t')\n",
    "\n",
    "#how many did we actually filter out?\n",
    "filtered_v8file_otherfolder_genes = v8file_otherfolder[v8file_otherfolder.IDs.isin(filterfile.gtex_imprinted_genes)]\n",
    "filtered_v7file_otherfolder_genes = v7file_otherfolder[v7file_otherfolder.IDs.isin(filterfile.gtex_imprinted_genes)]\n",
    "\n",
    "print(\"Filtered out V8 genes: \" + str(filtered_v8file_otherfolder_genes.IDs.shape[0]) )\n",
    "print(\"Filtered out V7 genes: \" + str(filtered_v7file_otherfolder_genes.IDs.shape[0]) )\n",
    "\n",
    "#lets save the filtered results\n",
    "filtered_v8file_otherfolder = v8file_otherfolder[~v8file_otherfolder.IDs.isin(filterfile.gtex_imprinted_genes)]\n",
    "filtered_v7file_otherfolder = v7file_otherfolder[~v7file_otherfolder.IDs.isin(filterfile.gtex_imprinted_genes)]\n",
    "\n",
    "filtered_v8file_otherfolder.to_csv(\"ANEVA_DOT_Blacklists_and_frequencies/ANEVA_DOT_frequencies_gtex_v8/Vg_GTEx_v8_filtered.txt\",sep='\\t')\n",
    "filtered_v7file_otherfolder.to_csv(\"ANEVA_DOT_Blacklists_and_frequencies/ANEVA_DOT_frequencies_gtex_v7/Vg_GTEx_v7_filtered.txt\",sep='\\t')"
   ]
  }
 ],
 "metadata": {
  "kernelspec": {
   "display_name": "Python 3",
   "language": "python",
   "name": "python3"
  },
  "language_info": {
   "codemirror_mode": {
    "name": "ipython",
    "version": 3
   },
   "file_extension": ".py",
   "mimetype": "text/x-python",
   "name": "python",
   "nbconvert_exporter": "python",
   "pygments_lexer": "ipython3",
   "version": "3.7.3"
  },
  "toc": {
   "base_numbering": 1,
   "nav_menu": {},
   "number_sections": false,
   "sideBar": false,
   "skip_h1_title": false,
   "title_cell": "Table of Contents",
   "title_sidebar": "Contents",
   "toc_cell": false,
   "toc_position": {},
   "toc_section_display": false,
   "toc_window_display": false
  }
 },
 "nbformat": 4,
 "nbformat_minor": 2
}
